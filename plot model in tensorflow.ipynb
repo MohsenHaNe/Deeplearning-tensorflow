{
 "cells": [
  {
   "cell_type": "code",
   "execution_count": 12,
   "id": "49fad2c2-d5e7-49d9-bfe4-1afaec903d62",
   "metadata": {},
   "outputs": [],
   "source": [
    "import numpy as np\n",
    "import tensorflow as tf\n",
    "from tensorflow import keras\n",
    "import tensorflow.keras.datasets.fashion_mnist as data\n",
    "import matplotlib.pyplot as plt\n",
    "from tensorflow.keras.utils import plot_model"
   ]
  },
  {
   "cell_type": "code",
   "execution_count": 2,
   "id": "97c17207-5e29-4ac0-96b5-bb5335e8acf8",
   "metadata": {},
   "outputs": [],
   "source": [
    "(x_train, y_train), (x_test, y_test) = data.load_data()\n",
    "x_train = x_train/255.0\n",
    "x_test = x_test/255.0"
   ]
  },
  {
   "cell_type": "code",
   "execution_count": 5,
   "id": "ec332070-1485-40a4-8e51-78296f5ef1b0",
   "metadata": {},
   "outputs": [],
   "source": [
    "model = keras.models.Sequential([\n",
    "    keras.layers.Flatten(input_shape=[28,28]),\n",
    "    keras.layers.Dense(100,activation='relu'),\n",
    "    keras.layers.Dense(50,activation='selu'),\n",
    "    keras.layers.Dense(10,activation='softmax'),\n",
    "])\n",
    "\n",
    "model.compile(loss='sparse_categorical_crossentropy',optimizer='sgd',metrics=['accuracy'])\n"
   ]
  },
  {
   "cell_type": "code",
   "execution_count": 6,
   "id": "717b9eeb-ca46-41b9-a324-aa8689444d59",
   "metadata": {},
   "outputs": [
    {
     "name": "stdout",
     "output_type": "stream",
     "text": [
      "Epoch 1/20\n",
      "\u001b[1m1688/1688\u001b[0m \u001b[32m━━━━━━━━━━━━━━━━━━━━\u001b[0m\u001b[37m\u001b[0m \u001b[1m9s\u001b[0m 4ms/step - accuracy: 0.6952 - loss: 0.9324 - val_accuracy: 0.8222 - val_loss: 0.5046\n",
      "Epoch 2/20\n",
      "\u001b[1m1688/1688\u001b[0m \u001b[32m━━━━━━━━━━━━━━━━━━━━\u001b[0m\u001b[37m\u001b[0m \u001b[1m7s\u001b[0m 4ms/step - accuracy: 0.8307 - loss: 0.4882 - val_accuracy: 0.8363 - val_loss: 0.4527\n",
      "Epoch 3/20\n",
      "\u001b[1m1688/1688\u001b[0m \u001b[32m━━━━━━━━━━━━━━━━━━━━\u001b[0m\u001b[37m\u001b[0m \u001b[1m7s\u001b[0m 4ms/step - accuracy: 0.8437 - loss: 0.4387 - val_accuracy: 0.8437 - val_loss: 0.4303\n",
      "Epoch 4/20\n",
      "\u001b[1m1688/1688\u001b[0m \u001b[32m━━━━━━━━━━━━━━━━━━━━\u001b[0m\u001b[37m\u001b[0m \u001b[1m7s\u001b[0m 4ms/step - accuracy: 0.8556 - loss: 0.4089 - val_accuracy: 0.8527 - val_loss: 0.4020\n",
      "Epoch 5/20\n",
      "\u001b[1m1688/1688\u001b[0m \u001b[32m━━━━━━━━━━━━━━━━━━━━\u001b[0m\u001b[37m\u001b[0m \u001b[1m6s\u001b[0m 4ms/step - accuracy: 0.8594 - loss: 0.3960 - val_accuracy: 0.8572 - val_loss: 0.4144\n",
      "Epoch 6/20\n",
      "\u001b[1m1688/1688\u001b[0m \u001b[32m━━━━━━━━━━━━━━━━━━━━\u001b[0m\u001b[37m\u001b[0m \u001b[1m6s\u001b[0m 4ms/step - accuracy: 0.8673 - loss: 0.3768 - val_accuracy: 0.8520 - val_loss: 0.4025\n",
      "Epoch 7/20\n",
      "\u001b[1m1688/1688\u001b[0m \u001b[32m━━━━━━━━━━━━━━━━━━━━\u001b[0m\u001b[37m\u001b[0m \u001b[1m6s\u001b[0m 4ms/step - accuracy: 0.8696 - loss: 0.3671 - val_accuracy: 0.8122 - val_loss: 0.4934\n",
      "Epoch 8/20\n",
      "\u001b[1m1688/1688\u001b[0m \u001b[32m━━━━━━━━━━━━━━━━━━━━\u001b[0m\u001b[37m\u001b[0m \u001b[1m6s\u001b[0m 4ms/step - accuracy: 0.8744 - loss: 0.3544 - val_accuracy: 0.8645 - val_loss: 0.3739\n",
      "Epoch 9/20\n",
      "\u001b[1m1688/1688\u001b[0m \u001b[32m━━━━━━━━━━━━━━━━━━━━\u001b[0m\u001b[37m\u001b[0m \u001b[1m6s\u001b[0m 4ms/step - accuracy: 0.8745 - loss: 0.3508 - val_accuracy: 0.8683 - val_loss: 0.3625\n",
      "Epoch 10/20\n",
      "\u001b[1m1688/1688\u001b[0m \u001b[32m━━━━━━━━━━━━━━━━━━━━\u001b[0m\u001b[37m\u001b[0m \u001b[1m6s\u001b[0m 4ms/step - accuracy: 0.8809 - loss: 0.3332 - val_accuracy: 0.8695 - val_loss: 0.3572\n",
      "Epoch 11/20\n",
      "\u001b[1m1688/1688\u001b[0m \u001b[32m━━━━━━━━━━━━━━━━━━━━\u001b[0m\u001b[37m\u001b[0m \u001b[1m6s\u001b[0m 4ms/step - accuracy: 0.8825 - loss: 0.3270 - val_accuracy: 0.8697 - val_loss: 0.3624\n",
      "Epoch 12/20\n",
      "\u001b[1m1688/1688\u001b[0m \u001b[32m━━━━━━━━━━━━━━━━━━━━\u001b[0m\u001b[37m\u001b[0m \u001b[1m7s\u001b[0m 4ms/step - accuracy: 0.8815 - loss: 0.3263 - val_accuracy: 0.8740 - val_loss: 0.3450\n",
      "Epoch 13/20\n",
      "\u001b[1m1688/1688\u001b[0m \u001b[32m━━━━━━━━━━━━━━━━━━━━\u001b[0m\u001b[37m\u001b[0m \u001b[1m7s\u001b[0m 4ms/step - accuracy: 0.8871 - loss: 0.3171 - val_accuracy: 0.8745 - val_loss: 0.3437\n",
      "Epoch 14/20\n",
      "\u001b[1m1688/1688\u001b[0m \u001b[32m━━━━━━━━━━━━━━━━━━━━\u001b[0m\u001b[37m\u001b[0m \u001b[1m7s\u001b[0m 4ms/step - accuracy: 0.8914 - loss: 0.3053 - val_accuracy: 0.8767 - val_loss: 0.3388\n",
      "Epoch 15/20\n",
      "\u001b[1m1688/1688\u001b[0m \u001b[32m━━━━━━━━━━━━━━━━━━━━\u001b[0m\u001b[37m\u001b[0m \u001b[1m6s\u001b[0m 4ms/step - accuracy: 0.8891 - loss: 0.3025 - val_accuracy: 0.8798 - val_loss: 0.3397\n",
      "Epoch 16/20\n",
      "\u001b[1m1688/1688\u001b[0m \u001b[32m━━━━━━━━━━━━━━━━━━━━\u001b[0m\u001b[37m\u001b[0m \u001b[1m6s\u001b[0m 4ms/step - accuracy: 0.8923 - loss: 0.2999 - val_accuracy: 0.8752 - val_loss: 0.3437\n",
      "Epoch 17/20\n",
      "\u001b[1m1688/1688\u001b[0m \u001b[32m━━━━━━━━━━━━━━━━━━━━\u001b[0m\u001b[37m\u001b[0m \u001b[1m6s\u001b[0m 4ms/step - accuracy: 0.8957 - loss: 0.2892 - val_accuracy: 0.8768 - val_loss: 0.3401\n",
      "Epoch 18/20\n",
      "\u001b[1m1688/1688\u001b[0m \u001b[32m━━━━━━━━━━━━━━━━━━━━\u001b[0m\u001b[37m\u001b[0m \u001b[1m6s\u001b[0m 4ms/step - accuracy: 0.8958 - loss: 0.2878 - val_accuracy: 0.8745 - val_loss: 0.3357\n",
      "Epoch 19/20\n",
      "\u001b[1m1688/1688\u001b[0m \u001b[32m━━━━━━━━━━━━━━━━━━━━\u001b[0m\u001b[37m\u001b[0m \u001b[1m7s\u001b[0m 4ms/step - accuracy: 0.8976 - loss: 0.2822 - val_accuracy: 0.8838 - val_loss: 0.3218\n",
      "Epoch 20/20\n",
      "\u001b[1m1688/1688\u001b[0m \u001b[32m━━━━━━━━━━━━━━━━━━━━\u001b[0m\u001b[37m\u001b[0m \u001b[1m7s\u001b[0m 4ms/step - accuracy: 0.8991 - loss: 0.2752 - val_accuracy: 0.8760 - val_loss: 0.3322\n"
     ]
    }
   ],
   "source": [
    "history = model.fit(x_train , y_train , epochs=20 , validation_split=0.1)\n"
   ]
  },
  {
   "cell_type": "code",
   "execution_count": 9,
   "id": "97ee76a7-3047-479e-b5e4-83da817d034f",
   "metadata": {
    "scrolled": true
   },
   "outputs": [
    {
     "data": {
      "text/plain": [
       "{'accuracy': [0.77311110496521,\n",
       "  0.8346296548843384,\n",
       "  0.8473518490791321,\n",
       "  0.8560925722122192,\n",
       "  0.8614814877510071,\n",
       "  0.8675000071525574,\n",
       "  0.8701666593551636,\n",
       "  0.8719815015792847,\n",
       "  0.8764073848724365,\n",
       "  0.8794259428977966,\n",
       "  0.8817963004112244,\n",
       "  0.8842037320137024,\n",
       "  0.8864629864692688,\n",
       "  0.8888888955116272,\n",
       "  0.8900555372238159,\n",
       "  0.8924259543418884,\n",
       "  0.8943518400192261,\n",
       "  0.8957777619361877,\n",
       "  0.8977592587471008,\n",
       "  0.898277759552002],\n",
       " 'loss': [0.6801490187644958,\n",
       "  0.4733739197254181,\n",
       "  0.4330093264579773,\n",
       "  0.4087551236152649,\n",
       "  0.39014923572540283,\n",
       "  0.3758927285671234,\n",
       "  0.3640403747558594,\n",
       "  0.35460934042930603,\n",
       "  0.34477588534355164,\n",
       "  0.33585312962532043,\n",
       "  0.32971781492233276,\n",
       "  0.3213962912559509,\n",
       "  0.31562596559524536,\n",
       "  0.30800747871398926,\n",
       "  0.3031157851219177,\n",
       "  0.29861053824424744,\n",
       "  0.2928050458431244,\n",
       "  0.2877040505409241,\n",
       "  0.28329282999038696,\n",
       "  0.278212308883667],\n",
       " 'val_accuracy': [0.8221666812896729,\n",
       "  0.8363333344459534,\n",
       "  0.843666672706604,\n",
       "  0.8526666760444641,\n",
       "  0.8571666479110718,\n",
       "  0.8519999980926514,\n",
       "  0.812166690826416,\n",
       "  0.8644999861717224,\n",
       "  0.8683333396911621,\n",
       "  0.8694999814033508,\n",
       "  0.8696666955947876,\n",
       "  0.8740000128746033,\n",
       "  0.8744999766349792,\n",
       "  0.8766666650772095,\n",
       "  0.8798333406448364,\n",
       "  0.875166654586792,\n",
       "  0.8768333196640015,\n",
       "  0.8744999766349792,\n",
       "  0.8838333487510681,\n",
       "  0.8759999871253967],\n",
       " 'val_loss': [0.5045763254165649,\n",
       "  0.4526975154876709,\n",
       "  0.43034374713897705,\n",
       "  0.40196919441223145,\n",
       "  0.414402574300766,\n",
       "  0.40247565507888794,\n",
       "  0.4934335947036743,\n",
       "  0.3739444613456726,\n",
       "  0.3625170886516571,\n",
       "  0.3572053611278534,\n",
       "  0.3624148666858673,\n",
       "  0.34499767422676086,\n",
       "  0.34368976950645447,\n",
       "  0.3387819230556488,\n",
       "  0.339730441570282,\n",
       "  0.34371110796928406,\n",
       "  0.3400929272174835,\n",
       "  0.3357292711734772,\n",
       "  0.32179123163223267,\n",
       "  0.33224615454673767]}"
      ]
     },
     "execution_count": 9,
     "metadata": {},
     "output_type": "execute_result"
    }
   ],
   "source": [
    "history.history"
   ]
  },
  {
   "cell_type": "code",
   "execution_count": 10,
   "id": "8d2a548e-adbd-4dc5-8d27-2cd0d33919e3",
   "metadata": {},
   "outputs": [
    {
     "name": "stdout",
     "output_type": "stream",
     "text": [
      "\u001b[1m313/313\u001b[0m \u001b[32m━━━━━━━━━━━━━━━━━━━━\u001b[0m\u001b[37m\u001b[0m \u001b[1m1s\u001b[0m 3ms/step - accuracy: 0.8719 - loss: 0.3624\n"
     ]
    },
    {
     "data": {
      "text/plain": [
       "[0.35822585225105286, 0.8712999820709229]"
      ]
     },
     "execution_count": 10,
     "metadata": {},
     "output_type": "execute_result"
    }
   ],
   "source": [
    "model.evaluate(x_test , y_test)"
   ]
  },
  {
   "cell_type": "code",
   "execution_count": 13,
   "id": "29f20544-dbce-468d-a1d1-f361f59de5fc",
   "metadata": {
    "scrolled": true
   },
   "outputs": [
    {
     "name": "stdout",
     "output_type": "stream",
     "text": [
      "You must install pydot (`pip install pydot`) for `plot_model` to work.\n"
     ]
    }
   ],
   "source": [
    "plot_model(model)"
   ]
  },
  {
   "cell_type": "code",
   "execution_count": null,
   "id": "84262bac-c0f4-4a0a-965a-832483a13bb5",
   "metadata": {},
   "outputs": [],
   "source": [
    "pip install pydot"
   ]
  },
  {
   "cell_type": "code",
   "execution_count": null,
   "id": "9efaa54a-affe-4831-a8b3-806636ca3726",
   "metadata": {},
   "outputs": [],
   "source": [
    "ax , fig = plt.subplots(figsize(12,5))\n",
    "ax.plt(history.history['loss'] , lable = 'loss')\n",
    "ax.plt(history.history['accuracy'],lable='acc')\n",
    "ax.plt(history.history['validation_loss'],lable='val_loss')\n",
    "ax.plt(history.history['validation_accuracy'],lable='val_acc')"
   ]
  }
 ],
 "metadata": {
  "kernelspec": {
   "display_name": "Python 3 (ipykernel)",
   "language": "python",
   "name": "python3"
  },
  "language_info": {
   "codemirror_mode": {
    "name": "ipython",
    "version": 3
   },
   "file_extension": ".py",
   "mimetype": "text/x-python",
   "name": "python",
   "nbconvert_exporter": "python",
   "pygments_lexer": "ipython3",
   "version": "3.12.3"
  }
 },
 "nbformat": 4,
 "nbformat_minor": 5
}
